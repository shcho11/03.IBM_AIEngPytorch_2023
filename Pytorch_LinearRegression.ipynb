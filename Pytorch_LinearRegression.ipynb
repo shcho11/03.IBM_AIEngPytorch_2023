{
  "cells": [
    {
      "cell_type": "markdown",
      "metadata": {
        "id": "view-in-github",
        "colab_type": "text"
      },
      "source": [
        "<a href=\"https://colab.research.google.com/github/shcho11/04.IBM_AIEngineering_Pytorch/blob/main/Pytorch_LinearRegression.ipynb\" target=\"_parent\"><img src=\"https://colab.research.google.com/assets/colab-badge.svg\" alt=\"Open In Colab\"/></a>"
      ]
    },
    {
      "cell_type": "markdown",
      "metadata": {
        "id": "bH3Z90cZmj9k"
      },
      "source": [
        "<h1>Linear Regression: Prediction</h1>\n",
        "\n",
        "- 함께 참고할 만한 wikidocs : 'PyTorch로 시작하는 딥 러닝 입문-03.선형회귀(Linear Regression)' https://wikidocs.net/53545\n"
      ]
    },
    {
      "cell_type": "markdown",
      "metadata": {
        "id": "N8edQ7u8mj9l"
      },
      "source": [
        "<h2>Objective</h2><ul><li> How to make the prediction for multiple inputs.</li><li> How to use linear class to build more complex models.</li><li> How to build a custom module.</li></ul> \n"
      ]
    },
    {
      "cell_type": "markdown",
      "metadata": {
        "id": "7pzp_Q4imj9l"
      },
      "source": [
        "<h2>Table of Contents</h2>\n",
        "\n",
        "*In this lab, we will  review how to make a prediction in several different ways by using PyTorch.*\n",
        "\n",
        "- Prediction\n",
        "- Class Linear\n",
        "- Build Custom Modules\n"
      ]
    },
    {
      "cell_type": "markdown",
      "metadata": {
        "id": "d68Kfgdvmj9p"
      },
      "source": [
        "<h2 id=\"Prediction\">Prediction</h2>\n"
      ]
    },
    {
      "cell_type": "code",
      "execution_count": 2,
      "metadata": {
        "id": "8fKbQmbmmj9n"
      },
      "outputs": [],
      "source": [
        "import torch"
      ]
    },
    {
      "cell_type": "markdown",
      "metadata": {
        "id": "HS_n2mrNmj9q"
      },
      "source": [
        "Let us create the following expressions:\n"
      ]
    },
    {
      "cell_type": "markdown",
      "metadata": {
        "id": "YN99vLXqmj9q"
      },
      "source": [
        "$b=-1,w=2$\n",
        "\n",
        "$\\hat{y}=-1+2x$\n"
      ]
    },
    {
      "cell_type": "markdown",
      "metadata": {
        "id": "m1BWMaW9mj9q"
      },
      "source": [
        "First, define the parameters:\n"
      ]
    },
    {
      "cell_type": "code",
      "execution_count": 3,
      "metadata": {
        "id": "iU5Y1ELLmj9r"
      },
      "outputs": [],
      "source": [
        "# Define w = 2 and b = -1 for y = wx + b\n",
        "\n",
        "w = torch.tensor(2.0, requires_grad = True)\n",
        "b = torch.tensor(-1.0, requires_grad = True)\n",
        "\n",
        "# requires_grad=True 로 설정하면 , 텐서의 모든 연산에 대해 추적을 시작한다. (디폴트는 False이다.)"
      ]
    },
    {
      "cell_type": "markdown",
      "metadata": {
        "id": "UE_4SkD0mj9r"
      },
      "source": [
        "Then, define the function <code>forward(x, w, b)</code> makes the prediction:\n"
      ]
    },
    {
      "cell_type": "code",
      "execution_count": 4,
      "metadata": {
        "id": "xr01M3f_mj9s"
      },
      "outputs": [],
      "source": [
        "# Function forward(x) for prediction\n",
        "\n",
        "def forward(x):\n",
        "    yhat = w * x + b\n",
        "    return yhat"
      ]
    },
    {
      "cell_type": "markdown",
      "metadata": {
        "id": "aRtchtqwmj9s"
      },
      "source": [
        "Let's make the following prediction at <i>x = 1</i>\n"
      ]
    },
    {
      "cell_type": "markdown",
      "metadata": {
        "id": "t9Y8POsfmj9s"
      },
      "source": [
        "$\\hat{y}=-1+2x$\n",
        "\n",
        "$\\hat{y}=-1+2(1)$\n"
      ]
    },
    {
      "cell_type": "code",
      "execution_count": 5,
      "metadata": {
        "colab": {
          "base_uri": "https://localhost:8080/"
        },
        "id": "g_JZ-wwlmj9t",
        "outputId": "f5d4c102-0228-472c-a879-17abf26c5a02"
      },
      "outputs": [
        {
          "output_type": "stream",
          "name": "stdout",
          "text": [
            "The prediction:  tensor([[1.]], grad_fn=<AddBackward0>)\n"
          ]
        }
      ],
      "source": [
        "# Predict y = 2x - 1 at x = 1\n",
        "\n",
        "x = torch.tensor([[1.0]])\n",
        "yhat = forward(x)\n",
        "print(\"The prediction: \", yhat)"
      ]
    },
    {
      "cell_type": "markdown",
      "metadata": {
        "id": "8pY6pj1ymj9u"
      },
      "source": [
        "Now, let us try to make the prediction for multiple inputs:\n"
      ]
    },
    {
      "cell_type": "markdown",
      "metadata": {
        "id": "m5bVw3Lamj9u"
      },
      "source": [
        "<img src=\"https://s3-api.us-geo.objectstorage.softlayer.net/cf-courses-data/CognitiveClass/DL0110EN/notebook_images%20/chapter2/2.1.2.png\" width=\"500\" alt=\"Linear Regression Multiple Input Samples\" />\n"
      ]
    },
    {
      "cell_type": "markdown",
      "metadata": {
        "id": "yLJ-gEn3mj9u"
      },
      "source": [
        "Let us construct the <code>x</code> tensor first. Check the shape of <code>x</code>.\n"
      ]
    },
    {
      "cell_type": "code",
      "execution_count": 6,
      "metadata": {
        "colab": {
          "base_uri": "https://localhost:8080/"
        },
        "id": "8QSMjC3tmj9u",
        "outputId": "f4673570-a18a-4ec3-f74e-d1550ecec1f5"
      },
      "outputs": [
        {
          "output_type": "stream",
          "name": "stdout",
          "text": [
            "The shape of x:  torch.Size([2, 1])\n"
          ]
        }
      ],
      "source": [
        "# Create x Tensor and check the shape of x tensor\n",
        "\n",
        "x = torch.tensor([[1.0], [2.0]])\n",
        "print(\"The shape of x: \", x.shape)"
      ]
    },
    {
      "cell_type": "markdown",
      "metadata": {
        "id": "cG-V5gfjmj9v"
      },
      "source": [
        "Now make the prediction:\n"
      ]
    },
    {
      "cell_type": "code",
      "execution_count": 7,
      "metadata": {
        "colab": {
          "base_uri": "https://localhost:8080/"
        },
        "id": "c__LNru_mj9v",
        "outputId": "496c4efd-3dc8-46ca-dc7d-59c7b2eb42d8"
      },
      "outputs": [
        {
          "output_type": "stream",
          "name": "stdout",
          "text": [
            "The prediction:  tensor([[1.],\n",
            "        [3.]], grad_fn=<AddBackward0>)\n"
          ]
        }
      ],
      "source": [
        "# Make the prediction of y = 2x - 1 at x = [1, 2]\n",
        "\n",
        "yhat = forward(x)\n",
        "print(\"The prediction: \", yhat)"
      ]
    },
    {
      "cell_type": "code",
      "execution_count": 8,
      "metadata": {
        "colab": {
          "base_uri": "https://localhost:8080/"
        },
        "id": "Hbh0nlVTmj9w",
        "outputId": "32a8072a-ce06-4c71-a756-d46e80f62b91"
      },
      "outputs": [
        {
          "output_type": "stream",
          "name": "stdout",
          "text": [
            "The Prediction :  tensor([[1.],\n",
            "        [3.],\n",
            "        [5.]], grad_fn=<AddBackward0>)\n"
          ]
        }
      ],
      "source": [
        "# Practice: Make a prediction of y = 2x - 1 at x = [[1.0], [2.0], [3.0]]\n",
        "\n",
        "x = torch.tensor([[1.0], [2.0], [3.0]])\n",
        "\n",
        "yhat = forward(x)\n",
        "\n",
        "print(\"The Prediction : \", yhat)"
      ]
    },
    {
      "cell_type": "markdown",
      "metadata": {
        "id": "diY3MPlQmj9x"
      },
      "source": [
        "<h2 id=\"Linear\">Class Linear</h2>\n"
      ]
    },
    {
      "cell_type": "markdown",
      "metadata": {
        "id": "E16MIErimj9x"
      },
      "source": [
        "The linear class can be used to make a prediction. We can also use the linear class to build more complex models. Let's import the module:\n",
        "- torch.nn이 무엇인가요 ? https://tutorials.pytorch.kr/beginner/nn_tutorial.html?highlight=linear \n",
        "-  파이토치에서 이미 구현되어져 제공되고 있는 함수들을 불러오는 것으로 더 쉽게 선형 회귀 모델을 구현해보겠음"
      ]
    },
    {
      "cell_type": "code",
      "execution_count": 9,
      "metadata": {
        "id": "woSfNlzOmj9x"
      },
      "outputs": [],
      "source": [
        "# Import Class Linear\n",
        "from torch.nn import Linear"
      ]
    },
    {
      "cell_type": "markdown",
      "metadata": {
        "id": "oHdfS8C2mj9x"
      },
      "source": [
        "Set the random seed because the parameters are randomly initialized:\n"
      ]
    },
    {
      "cell_type": "code",
      "execution_count": 10,
      "metadata": {
        "colab": {
          "base_uri": "https://localhost:8080/"
        },
        "id": "YvR58HSRmj9x",
        "outputId": "13d7f8f6-f2e5-40fe-9f99-0438805a5d00"
      },
      "outputs": [
        {
          "output_type": "execute_result",
          "data": {
            "text/plain": [
              "<torch._C.Generator at 0x7f8f34e7c7d0>"
            ]
          },
          "metadata": {},
          "execution_count": 10
        }
      ],
      "source": [
        "# Set random seed\n",
        "# # 현재 실습하고 있는 파이썬 코드를 재실행해도 다음에도 같은 결과가 나오도록 랜덤 시드(random seed)를 줍니다.\n",
        "torch.manual_seed(1)"
      ]
    },
    {
      "cell_type": "markdown",
      "metadata": {
        "id": "C5KecYjBmj9y"
      },
      "source": [
        "Let us create the linear object by using the constructor. The parameters are randomly created. Let us print out to see what <i>w</i> and <i>b</i>. The parameters of an <code>torch.nn.Module</code> model are contained in the model’s parameters accessed with <code>lr.parameters()</code>:\n"
      ]
    },
    {
      "cell_type": "code",
      "execution_count": 11,
      "metadata": {
        "colab": {
          "base_uri": "https://localhost:8080/"
        },
        "id": "IRIKCk3Imj9y",
        "outputId": "ed5211d2-3788-476e-a66a-90aed05e4f96"
      },
      "outputs": [
        {
          "output_type": "stream",
          "name": "stdout",
          "text": [
            "Parameters w and b:  [Parameter containing:\n",
            "tensor([[0.5153]], requires_grad=True), Parameter containing:\n",
            "tensor([-0.4414], requires_grad=True)]\n"
          ]
        }
      ],
      "source": [
        "# Create Linear Regression Model, and print out the parameters\n",
        "\n",
        "lr = Linear(in_features=1, out_features=1, bias=True)\n",
        "print(\"Parameters w and b: \", list(lr.parameters()))\n",
        "\n",
        "# in_features   : size of each input sample\n",
        "# out_features  : size of each output sample\n",
        "# bias          : If set to False, the layer will not learn an additive bias. Default: True"
      ]
    },
    {
      "cell_type": "markdown",
      "metadata": {
        "id": "FGcQqY1rmj9y"
      },
      "source": [
        "This is equivalent to the following expression:\n"
      ]
    },
    {
      "cell_type": "markdown",
      "metadata": {
        "id": "hGnMbIoBmj9z"
      },
      "source": [
        "$b=-0.44, w=0.5153$\n",
        "\n",
        "$\\hat{y}=-0.44+0.5153x$\n"
      ]
    },
    {
      "cell_type": "markdown",
      "metadata": {
        "id": "KSNAgxmUmj9z"
      },
      "source": [
        "A method  <code>state_dict()</code> Returns a Python dictionary object corresponding to the layers of each parameter  tensor.\n",
        "\n",
        "- state_dict 는 간단히 말해 각 계층을 매개변수 텐서로 매핑되는 Python 사전(dict) 객체입니다.\n",
        "- 참고 : https://tutorials.pytorch.kr/recipes/recipes/what_is_state_dict.html"
      ]
    },
    {
      "cell_type": "code",
      "execution_count": 12,
      "metadata": {
        "colab": {
          "base_uri": "https://localhost:8080/"
        },
        "id": "4G5hExv2mj9z",
        "outputId": "159dd67c-53e0-4145-c410-ef53a6eb5c0a"
      },
      "outputs": [
        {
          "output_type": "stream",
          "name": "stdout",
          "text": [
            "Python dictionary:  OrderedDict([('weight', tensor([[0.5153]])), ('bias', tensor([-0.4414]))])\n",
            "keys:  odict_keys(['weight', 'bias'])\n",
            "values:  odict_values([tensor([[0.5153]]), tensor([-0.4414])])\n"
          ]
        }
      ],
      "source": [
        "print(\"Python dictionary: \",lr.state_dict())\n",
        "print(\"keys: \",lr.state_dict().keys())\n",
        "print(\"values: \",lr.state_dict().values())"
      ]
    },
    {
      "cell_type": "markdown",
      "metadata": {
        "id": "HofMlfR_mj9z"
      },
      "source": [
        "The keys correspond to the name of the attributes and the values correspond to the parameter value.\n"
      ]
    },
    {
      "cell_type": "code",
      "execution_count": 13,
      "metadata": {
        "colab": {
          "base_uri": "https://localhost:8080/"
        },
        "id": "hTZriXzRmj9z",
        "outputId": "0314d443-9bbf-4506-90f4-eb29e307a91d"
      },
      "outputs": [
        {
          "output_type": "stream",
          "name": "stdout",
          "text": [
            "weight: Parameter containing:\n",
            "tensor([[0.5153]], requires_grad=True)\n",
            "bias: Parameter containing:\n",
            "tensor([-0.4414], requires_grad=True)\n"
          ]
        }
      ],
      "source": [
        "print(\"weight:\",lr.weight)\n",
        "print(\"bias:\",lr.bias)"
      ]
    },
    {
      "cell_type": "markdown",
      "metadata": {
        "id": "_G6DyEUpmj9z"
      },
      "source": [
        "Now let us make a single prediction at <i>x = \\[\\[1.0]]</i>.\n"
      ]
    },
    {
      "cell_type": "code",
      "execution_count": 14,
      "metadata": {
        "colab": {
          "base_uri": "https://localhost:8080/"
        },
        "id": "YNAGrYHamj90",
        "outputId": "d4198d39-15ce-457f-a6c5-2f3e5b74b975"
      },
      "outputs": [
        {
          "output_type": "stream",
          "name": "stdout",
          "text": [
            "The prediction:  tensor([[0.0739]], grad_fn=<AddmmBackward0>)\n"
          ]
        }
      ],
      "source": [
        "# Make the prediction at x = [[1.0]]\n",
        "\n",
        "x = torch.tensor([[1.0]])\n",
        "yhat = lr(x)\n",
        "print(\"The prediction: \", yhat)"
      ]
    },
    {
      "cell_type": "markdown",
      "metadata": {
        "id": "OgB97NDUmj90"
      },
      "source": [
        "Similarly, you can make multiple predictions:\n"
      ]
    },
    {
      "cell_type": "markdown",
      "metadata": {
        "id": "xX421uBTmj90"
      },
      "source": [
        "<img src=\"https://s3-api.us-geo.objectstorage.softlayer.net/cf-courses-data/CognitiveClass/DL0110EN/notebook_images%20/chapter2/2.1.2vector_function.png\" width=\"500\" alt=\"Linear Class Sample with Multiple Inputs\" />\n"
      ]
    },
    {
      "cell_type": "markdown",
      "metadata": {
        "id": "QskIrlO7mj90"
      },
      "source": [
        "Use model <code>lr(x)</code> to predict the result.\n"
      ]
    },
    {
      "cell_type": "code",
      "execution_count": 15,
      "metadata": {
        "colab": {
          "base_uri": "https://localhost:8080/"
        },
        "id": "8T54O-Vmmj91",
        "outputId": "58ba06f9-9454-4ee9-8922-ee317e72b850"
      },
      "outputs": [
        {
          "output_type": "stream",
          "name": "stdout",
          "text": [
            "The prediction:  tensor([[0.0739],\n",
            "        [0.5891]], grad_fn=<AddmmBackward0>)\n"
          ]
        }
      ],
      "source": [
        "# Create the prediction using linear model\n",
        "\n",
        "x = torch.tensor([[1.0], [2.0]])\n",
        "yhat = lr(x)\n",
        "print(\"The prediction: \", yhat)"
      ]
    },
    {
      "cell_type": "markdown",
      "metadata": {
        "id": "cYZsaY5omj91"
      },
      "source": [
        "<h3>Practice</h3>\n"
      ]
    },
    {
      "cell_type": "markdown",
      "metadata": {
        "id": "JGWZazFymj91"
      },
      "source": [
        "Make a prediction of the following <code>x</code> tensor using the linear regression model <code>lr</code>.\n"
      ]
    },
    {
      "cell_type": "code",
      "execution_count": 16,
      "metadata": {
        "colab": {
          "base_uri": "https://localhost:8080/"
        },
        "id": "gr6AHa4Xmj91",
        "outputId": "8c31791e-9dbc-459c-a62e-4f77762f7ced"
      },
      "outputs": [
        {
          "output_type": "stream",
          "name": "stdout",
          "text": [
            "The Prediction :  tensor([[0.0739],\n",
            "        [0.5891],\n",
            "        [1.1044]], grad_fn=<AddmmBackward0>)\n"
          ]
        }
      ],
      "source": [
        "# Practice: Use the linear regression model object lr to make the prediction.\n",
        "\n",
        "x = torch.tensor([[1.0],[2.0],[3.0]])\n",
        "yhat = lr(x)\n",
        "print(\"The Prediction : \", yhat)"
      ]
    },
    {
      "cell_type": "markdown",
      "metadata": {
        "id": "xLP2qv-kmj92"
      },
      "source": [
        "<h2 id=\"Cust\">Build Custom Modules</h2>\n"
      ]
    },
    {
      "cell_type": "markdown",
      "metadata": {
        "id": "7-MRKxbtmj92"
      },
      "source": [
        "Now, let's build a custom module. We can make more complex models by using this method later on.\n"
      ]
    },
    {
      "cell_type": "markdown",
      "metadata": {
        "id": "B7-nvo4Fmj92"
      },
      "source": [
        "First, import the following library.\n"
      ]
    },
    {
      "cell_type": "code",
      "execution_count": 17,
      "metadata": {
        "id": "CDLg1xu-mj92"
      },
      "outputs": [],
      "source": [
        "# Library for this section\n",
        "\n",
        "from torch import nn"
      ]
    },
    {
      "cell_type": "markdown",
      "metadata": {
        "id": "tZAQ2nWCmj92"
      },
      "source": [
        "Now, let us define the class:\n"
      ]
    },
    {
      "cell_type": "code",
      "execution_count": 18,
      "metadata": {
        "id": "wt7La1YRmj93"
      },
      "outputs": [],
      "source": [
        "# Customize Linear Regression Class\n",
        "\n",
        "class LR(nn.Module):\n",
        "    \n",
        "    # Constructor\n",
        "    def __init__(self, input_size, output_size):\n",
        "        \n",
        "        # Inherit from parent\n",
        "        super(LR, self).__init__()\n",
        "        self.linear = nn.Linear(input_size, output_size)\n",
        "    \n",
        "    # Prediction function\n",
        "    def forward(self, x):\n",
        "        out = self.linear(x)\n",
        "        return out"
      ]
    },
    {
      "cell_type": "markdown",
      "metadata": {
        "id": "jMOP9YtSmj93"
      },
      "source": [
        "Create an object by using the constructor. Print out the parameters we get and the model.\n"
      ]
    },
    {
      "cell_type": "code",
      "execution_count": 19,
      "metadata": {
        "colab": {
          "base_uri": "https://localhost:8080/"
        },
        "id": "i3e-lxTJmj93",
        "outputId": "52326094-bd73-4dab-b653-a4a37500af85"
      },
      "outputs": [
        {
          "output_type": "stream",
          "name": "stdout",
          "text": [
            "The parameters:  [Parameter containing:\n",
            "tensor([[-0.1939]], requires_grad=True), Parameter containing:\n",
            "tensor([0.4694], requires_grad=True)]\n",
            "Linear model:  Linear(in_features=1, out_features=1, bias=True)\n"
          ]
        }
      ],
      "source": [
        "# Create the linear regression model. Print out the parameters.\n",
        "\n",
        "lr = LR(1, 1)\n",
        "print(\"The parameters: \", list(lr.parameters()))\n",
        "print(\"Linear model: \", lr.linear)"
      ]
    },
    {
      "cell_type": "markdown",
      "metadata": {
        "id": "EhBKpNX3mj93"
      },
      "source": [
        "Let us try to make a prediction of a single input sample.\n"
      ]
    },
    {
      "cell_type": "code",
      "execution_count": 20,
      "metadata": {
        "colab": {
          "base_uri": "https://localhost:8080/"
        },
        "id": "yAdqNlYqmj94",
        "outputId": "f4e88b49-93d5-4ba0-a434-fe25eebe71ee"
      },
      "outputs": [
        {
          "output_type": "stream",
          "name": "stdout",
          "text": [
            "The prediction:  tensor([[0.2755]], grad_fn=<AddmmBackward0>)\n"
          ]
        }
      ],
      "source": [
        "# Try our customize linear regression model with single input\n",
        "\n",
        "x = torch.tensor([[1.0]])\n",
        "yhat = lr(x)\n",
        "print(\"The prediction: \", yhat)"
      ]
    },
    {
      "cell_type": "markdown",
      "metadata": {
        "id": "U_WRqvdHmj94"
      },
      "source": [
        "Now, let us try another example with multiple samples.\n"
      ]
    },
    {
      "cell_type": "code",
      "execution_count": 21,
      "metadata": {
        "colab": {
          "base_uri": "https://localhost:8080/"
        },
        "id": "be-DSUa-mj94",
        "outputId": "6f9fddf8-1331-4b56-b4f2-4d5ef8b596f0"
      },
      "outputs": [
        {
          "output_type": "stream",
          "name": "stdout",
          "text": [
            "The prediction:  tensor([[0.2755],\n",
            "        [0.0816]], grad_fn=<AddmmBackward0>)\n"
          ]
        }
      ],
      "source": [
        "# Try our customize linear regression model with multiple input\n",
        "\n",
        "x = torch.tensor([[1.0], [2.0]])\n",
        "yhat = lr(x)\n",
        "print(\"The prediction: \", yhat)"
      ]
    },
    {
      "cell_type": "markdown",
      "metadata": {
        "id": "0z8oQFhEmj94"
      },
      "source": [
        "the parameters are also stored in an ordered dictionary :\n"
      ]
    },
    {
      "cell_type": "code",
      "execution_count": 22,
      "metadata": {
        "colab": {
          "base_uri": "https://localhost:8080/"
        },
        "id": "n0kKb9xUmj94",
        "outputId": "d71b64c5-7db1-4c6a-9dd5-681cdf8971d9"
      },
      "outputs": [
        {
          "output_type": "stream",
          "name": "stdout",
          "text": [
            "Python dictionary:  OrderedDict([('linear.weight', tensor([[-0.1939]])), ('linear.bias', tensor([0.4694]))])\n",
            "keys:  odict_keys(['linear.weight', 'linear.bias'])\n",
            "values:  odict_values([tensor([[-0.1939]]), tensor([0.4694])])\n"
          ]
        }
      ],
      "source": [
        "print(\"Python dictionary: \", lr.state_dict())\n",
        "print(\"keys: \",lr.state_dict().keys())\n",
        "print(\"values: \",lr.state_dict().values())"
      ]
    },
    {
      "cell_type": "markdown",
      "metadata": {
        "id": "y5fMlev_mj95"
      },
      "source": [
        "<h3>Practice</h3>\n"
      ]
    },
    {
      "cell_type": "markdown",
      "metadata": {
        "id": "oyq7kf1amj95"
      },
      "source": [
        "Create an object <code>lr1</code> from the class we created before and make a prediction by using the following tensor:\n"
      ]
    },
    {
      "cell_type": "code",
      "execution_count": 23,
      "metadata": {
        "colab": {
          "base_uri": "https://localhost:8080/"
        },
        "id": "foEvYZqEmj95",
        "outputId": "1da02771-b363-44f7-8972-defd2f990afd"
      },
      "outputs": [
        {
          "output_type": "stream",
          "name": "stdout",
          "text": [
            "The Prediction :  tensor([[ 0.2755],\n",
            "        [ 0.0816],\n",
            "        [-0.1122]], grad_fn=<AddmmBackward0>)\n"
          ]
        }
      ],
      "source": [
        "# Practice: Use the LR class to create a model and make a prediction of the following tensor.\n",
        "\n",
        "x = torch.tensor([[1.0], [2.0], [3.0]])\n",
        "\n",
        "lr1 = LR(1,1)\n",
        "yhat = lr(x)\n",
        "print(\"The Prediction : \", yhat)"
      ]
    }
  ],
  "metadata": {
    "kernelspec": {
      "display_name": "Python",
      "language": "python",
      "name": "conda-env-python-py"
    },
    "language_info": {
      "codemirror_mode": {
        "name": "ipython",
        "version": 3
      },
      "file_extension": ".py",
      "mimetype": "text/x-python",
      "name": "python",
      "nbconvert_exporter": "python",
      "pygments_lexer": "ipython3",
      "version": "3.7.12"
    },
    "colab": {
      "provenance": [],
      "collapsed_sections": [],
      "include_colab_link": true
    }
  },
  "nbformat": 4,
  "nbformat_minor": 0
}