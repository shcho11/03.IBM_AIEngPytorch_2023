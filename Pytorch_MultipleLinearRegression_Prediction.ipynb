{
  "cells": [
    {
      "cell_type": "markdown",
      "metadata": {
        "id": "view-in-github",
        "colab_type": "text"
      },
      "source": [
        "<a href=\"https://colab.research.google.com/github/shcho11/04.IBM_AIEngineering_Pytorch/blob/main/Pytorch_MultipleLinearRegression_Prediction.ipynb\" target=\"_parent\"><img src=\"https://colab.research.google.com/assets/colab-badge.svg\" alt=\"Open In Colab\"/></a>"
      ]
    },
    {
      "cell_type": "markdown",
      "metadata": {
        "id": "Szu9zhxuZ_-d"
      },
      "source": [
        "<h1>Multiple Linear Regression</h1>\n"
      ]
    },
    {
      "cell_type": "markdown",
      "metadata": {
        "id": "k4QK3_wQZ_-e"
      },
      "source": [
        "<h2>Objective</h2><ul><li> How to make the prediction for multiple inputs.</li><li> How to use linear class to build more complex models.</li><li> How to build a custom module.</li></ul> \n"
      ]
    },
    {
      "cell_type": "markdown",
      "metadata": {
        "id": "lObFlgEQZ_-e"
      },
      "source": [
        "<h2>Preparation</h2>\n"
      ]
    },
    {
      "cell_type": "markdown",
      "metadata": {
        "id": "mRdQUGhZZ_-f"
      },
      "source": [
        "Import the libraries and set the random seed.\n"
      ]
    },
    {
      "cell_type": "code",
      "execution_count": 1,
      "metadata": {
        "colab": {
          "base_uri": "https://localhost:8080/"
        },
        "id": "YqOBJ-ynZ_-f",
        "outputId": "e64846cb-b9a0-48ec-df42-5539b4f9dc3d"
      },
      "outputs": [
        {
          "output_type": "execute_result",
          "data": {
            "text/plain": [
              "<torch._C.Generator at 0x7f66fc2f48b0>"
            ]
          },
          "metadata": {},
          "execution_count": 1
        }
      ],
      "source": [
        "# Import the libraries and set the random seed\n",
        "\n",
        "from torch import nn\n",
        "import torch\n",
        "torch.manual_seed(1)"
      ]
    },
    {
      "cell_type": "markdown",
      "metadata": {
        "id": "Zlm0kEaVZ_-h"
      },
      "source": [
        "<h2 id=\"Prediction\">Prediction</h2>\n"
      ]
    },
    {
      "cell_type": "markdown",
      "metadata": {
        "id": "GBxhJBh_Z_-h"
      },
      "source": [
        "Set weight and bias.\n"
      ]
    },
    {
      "cell_type": "code",
      "execution_count": 2,
      "metadata": {
        "id": "PtTgY4laZ_-h"
      },
      "outputs": [],
      "source": [
        "# Set the weight and bias\n",
        "\n",
        "w = torch.tensor([[2.0], [3.0]], requires_grad=True)\n",
        "b = torch.tensor([[1.0]], requires_grad=True)\n",
        "\n",
        "# requires_grad 의 의미 : \"이 변수는 학습을 통해 계속 값이 변경되는 변수\" \n",
        "#                         (마찬가지로 편향 도 0으로 초기화하고, 학습을 통해 값이 변경되는 변수임을 명시)"
      ]
    },
    {
      "cell_type": "code",
      "execution_count": 3,
      "metadata": {
        "colab": {
          "base_uri": "https://localhost:8080/"
        },
        "id": "Z07HikvNZ_-i",
        "outputId": "eb78ed73-ad68-4035-fdbb-549eebbd43cf"
      },
      "outputs": [
        {
          "output_type": "stream",
          "name": "stdout",
          "text": [
            "tensor([[2.],\n",
            "        [3.]], requires_grad=True)\n",
            "torch.Size([2, 1]) \n",
            "\n",
            "tensor([[1.]], requires_grad=True)\n",
            "torch.Size([1, 1])\n"
          ]
        }
      ],
      "source": [
        "print(w)\n",
        "print(w.shape, \"\\n\")\n",
        "print(b)\n",
        "print(b.shape)"
      ]
    },
    {
      "cell_type": "markdown",
      "metadata": {
        "id": "uQAMG2Q0Z_-i"
      },
      "source": [
        "Define the parameters. <code>torch.mm</code> uses matrix multiplication instead of scaler multiplication.\n"
      ]
    },
    {
      "cell_type": "code",
      "execution_count": 4,
      "metadata": {
        "id": "DgVWSWp1Z_-i"
      },
      "outputs": [],
      "source": [
        "# Define Prediction Function\n",
        "# mm은 input과 mat2에 대해서 matrix multiplication을 수행하는 함수. 이 함수는 broadcast되지 않는 것이 특징.\n",
        "# 즉 mm은 정확하게 matrix 곱의 사이즈가 맞아야 사용이 가능. 만약 broadcasting된 것을 원한다면 torch.matul 함수를 사용해야 함.\n",
        "\n",
        "def forward(x):\n",
        "    yhat = torch.mm(x, w) + b\n",
        "    return yhat"
      ]
    },
    {
      "cell_type": "markdown",
      "metadata": {
        "id": "dbye_spOZ_-j"
      },
      "source": [
        "If we input a <i>1x2</i> tensor, because we have a <i>2x1</i> tensor as <code>w</code>, we will get a <i>1x1</i> tensor:\n"
      ]
    },
    {
      "cell_type": "code",
      "execution_count": 5,
      "metadata": {
        "colab": {
          "base_uri": "https://localhost:8080/"
        },
        "id": "_aBOiw-uZ_-j",
        "outputId": "33b6e836-4a4b-4c9f-a8a5-030915667677"
      },
      "outputs": [
        {
          "output_type": "stream",
          "name": "stdout",
          "text": [
            "The result:  tensor([[9.]], grad_fn=<AddBackward0>)\n"
          ]
        }
      ],
      "source": [
        "# Calculate yhat\n",
        "\n",
        "x = torch.tensor([[1.0, 2.0]])\n",
        "yhat = forward(x)\n",
        "print(\"The result: \", yhat)"
      ]
    },
    {
      "cell_type": "markdown",
      "metadata": {
        "id": "M6-5LX3rZ_-j"
      },
      "source": [
        "## Each row of the following tensor represents a sample:\n"
      ]
    },
    {
      "cell_type": "code",
      "execution_count": 6,
      "metadata": {
        "id": "TMvNnKRGZ_-k"
      },
      "outputs": [],
      "source": [
        "# Sample tensor X\n",
        "\n",
        "X = torch.tensor([[1.0, 1.0], [1.0, 2.0], [1.0, 3.0]])"
      ]
    },
    {
      "cell_type": "code",
      "execution_count": 7,
      "metadata": {
        "colab": {
          "base_uri": "https://localhost:8080/"
        },
        "id": "h81LkZ1DZ_-k",
        "outputId": "f19a419e-4deb-4f0a-8adb-52188ee50e03"
      },
      "outputs": [
        {
          "output_type": "stream",
          "name": "stdout",
          "text": [
            "The result:  tensor([[ 6.],\n",
            "        [ 9.],\n",
            "        [12.]], grad_fn=<AddBackward0>)\n"
          ]
        }
      ],
      "source": [
        "# Make the prediction of X \n",
        "\n",
        "yhat = forward(X)\n",
        "print(\"The result: \", yhat)"
      ]
    },
    {
      "cell_type": "markdown",
      "metadata": {
        "id": "6uPTPUg7Z_-l"
      },
      "source": [
        "<h2 id=\"Linear\">Class Linear</h2>\n"
      ]
    },
    {
      "cell_type": "markdown",
      "metadata": {
        "id": "OHU0ru_bZ_-l"
      },
      "source": [
        "We can use the linear class to make a prediction. You'll also use the linear class to build more complex models.\n"
      ]
    },
    {
      "cell_type": "code",
      "execution_count": 8,
      "metadata": {
        "colab": {
          "base_uri": "https://localhost:8080/"
        },
        "id": "cpZ_aLdwZ_-l",
        "outputId": "8f7274c0-67c8-4440-928d-22e70755d1a4"
      },
      "outputs": [
        {
          "output_type": "stream",
          "name": "stdout",
          "text": [
            "Linear(in_features=2, out_features=1, bias=True)\n"
          ]
        }
      ],
      "source": [
        "# Make a linear regression model using build-in function\n",
        "\n",
        "model = nn.Linear(2, 1)\n",
        "print(model)"
      ]
    },
    {
      "cell_type": "code",
      "source": [
        "print(model.parameters())\n",
        "print(model.state_dict())"
      ],
      "metadata": {
        "colab": {
          "base_uri": "https://localhost:8080/"
        },
        "id": "2FpD-OgTxiEV",
        "outputId": "e1513d4b-fb62-4e9c-9a75-261e596b576b"
      },
      "execution_count": 10,
      "outputs": [
        {
          "output_type": "stream",
          "name": "stdout",
          "text": [
            "<generator object Module.parameters at 0x7f66fa6d2dd0>\n",
            "OrderedDict([('weight', tensor([[ 0.3643, -0.3121]])), ('bias', tensor([-0.1371]))])\n"
          ]
        }
      ]
    },
    {
      "cell_type": "markdown",
      "metadata": {
        "id": "v1OpjfvtZ_-l"
      },
      "source": [
        "Make a prediction with the first sample:\n"
      ]
    },
    {
      "cell_type": "code",
      "execution_count": 11,
      "metadata": {
        "colab": {
          "base_uri": "https://localhost:8080/"
        },
        "id": "uCVSGgxcZ_-l",
        "outputId": "ba46a29c-8547-4219-b548-ba458657292d"
      },
      "outputs": [
        {
          "output_type": "stream",
          "name": "stdout",
          "text": [
            "The result:  tensor([[-0.3969]], grad_fn=<AddmmBackward0>)\n"
          ]
        }
      ],
      "source": [
        "# Make a prediction of x\n",
        "\n",
        "yhat = model(x)\n",
        "print(\"The result: \", yhat)"
      ]
    },
    {
      "cell_type": "markdown",
      "metadata": {
        "id": "QtrLSVrVZ_-l"
      },
      "source": [
        "Predict with multiple samples <code>X</code>:\n"
      ]
    },
    {
      "cell_type": "code",
      "execution_count": 12,
      "metadata": {
        "colab": {
          "base_uri": "https://localhost:8080/"
        },
        "id": "p0AmtrFcZ_-m",
        "outputId": "8802eb89-6550-4237-a818-84fba539a71f"
      },
      "outputs": [
        {
          "output_type": "stream",
          "name": "stdout",
          "text": [
            "The result:  tensor([[-0.0848],\n",
            "        [-0.3969],\n",
            "        [-0.7090]], grad_fn=<AddmmBackward0>)\n"
          ]
        }
      ],
      "source": [
        "# Make a prediction of X\n",
        "\n",
        "yhat = model(X)\n",
        "print(\"The result: \", yhat)"
      ]
    },
    {
      "cell_type": "markdown",
      "metadata": {
        "id": "gcobxjX6Z_-m"
      },
      "source": [
        "<h2 id=\"Cust\">Build Custom Modules </h2>\n"
      ]
    },
    {
      "cell_type": "markdown",
      "metadata": {
        "id": "DM80Z7RbZ_-m"
      },
      "source": [
        "Now, you'll build a custom module. You can make more complex models by using this method later.\n"
      ]
    },
    {
      "cell_type": "code",
      "execution_count": 13,
      "metadata": {
        "id": "CXxu91FXZ_-m"
      },
      "outputs": [],
      "source": [
        "# Create linear_regression Class\n",
        "\n",
        "class linear_regression(nn.Module):\n",
        "    \n",
        "    # Constructor\n",
        "    def __init__(self, input_size, output_size):\n",
        "        super(linear_regression, self).__init__()\n",
        "        self.linear = nn.Linear(input_size, output_size)\n",
        "    \n",
        "    # Prediction function\n",
        "    def forward(self, x):\n",
        "        yhat = self.linear(x)\n",
        "        return yhat"
      ]
    },
    {
      "cell_type": "markdown",
      "metadata": {
        "id": "arHZMZ7GZ_-n"
      },
      "source": [
        "Build a linear regression object. The input feature size is two.\n"
      ]
    },
    {
      "cell_type": "code",
      "execution_count": 14,
      "metadata": {
        "id": "0BAE30wqZ_-n"
      },
      "outputs": [],
      "source": [
        "model = linear_regression(2, 1)"
      ]
    },
    {
      "cell_type": "markdown",
      "metadata": {
        "id": "HqOCp2jdZ_-n"
      },
      "source": [
        "You can see the randomly initialized parameters by using the <code>parameters()</code> method:\n"
      ]
    },
    {
      "cell_type": "code",
      "execution_count": 15,
      "metadata": {
        "colab": {
          "base_uri": "https://localhost:8080/"
        },
        "id": "bqodTL97Z_-n",
        "outputId": "f660b5a7-6fe9-45ed-805b-5172ce91b323"
      },
      "outputs": [
        {
          "output_type": "stream",
          "name": "stdout",
          "text": [
            "The parameters:  [Parameter containing:\n",
            "tensor([[ 0.3319, -0.6657]], requires_grad=True), Parameter containing:\n",
            "tensor([0.4241], requires_grad=True)]\n"
          ]
        }
      ],
      "source": [
        "# Print model parameters\n",
        "\n",
        "print(\"The parameters: \", list(model.parameters()))"
      ]
    },
    {
      "cell_type": "markdown",
      "metadata": {
        "id": "MaauNpfrZ_-n"
      },
      "source": [
        "You can also see the parameters by using the <code>state_dict()</code> method:\n"
      ]
    },
    {
      "cell_type": "code",
      "execution_count": 16,
      "metadata": {
        "colab": {
          "base_uri": "https://localhost:8080/"
        },
        "id": "f3VSNKdXZ_-n",
        "outputId": "e0aaa072-81e2-4c22-a7eb-6de7e23b37ba"
      },
      "outputs": [
        {
          "output_type": "stream",
          "name": "stdout",
          "text": [
            "The parameters:  OrderedDict([('linear.weight', tensor([[ 0.3319, -0.6657]])), ('linear.bias', tensor([0.4241]))])\n"
          ]
        }
      ],
      "source": [
        "# Print model parameters\n",
        "\n",
        "print(\"The parameters: \", model.state_dict())"
      ]
    },
    {
      "cell_type": "markdown",
      "metadata": {
        "id": "rFfZC6znZ_-o"
      },
      "source": [
        "Now we input a 1x2 tensor, and we will get a 1x1 tensor.\n"
      ]
    },
    {
      "cell_type": "code",
      "execution_count": 17,
      "metadata": {
        "colab": {
          "base_uri": "https://localhost:8080/"
        },
        "id": "6bKoBovgZ_-o",
        "outputId": "b824532a-2db8-4ea4-eaa8-2f3c267e2b73"
      },
      "outputs": [
        {
          "output_type": "stream",
          "name": "stdout",
          "text": [
            "The result:  tensor([[-0.5754]], grad_fn=<AddmmBackward0>)\n"
          ]
        }
      ],
      "source": [
        "# Make a prediction of x\n",
        "\n",
        "yhat = model(x)\n",
        "print(\"The result: \", yhat)"
      ]
    },
    {
      "cell_type": "markdown",
      "metadata": {
        "id": "fujTXAJ7Z_-o"
      },
      "source": [
        "Make a prediction for multiple samples:\n"
      ]
    },
    {
      "cell_type": "code",
      "execution_count": 18,
      "metadata": {
        "colab": {
          "base_uri": "https://localhost:8080/"
        },
        "id": "e9oU2z4zZ_-o",
        "outputId": "42fe9954-c5bd-47b9-91e2-00813f665650"
      },
      "outputs": [
        {
          "output_type": "stream",
          "name": "stdout",
          "text": [
            "The result:  tensor([[ 0.0903],\n",
            "        [-0.5754],\n",
            "        [-1.2411]], grad_fn=<AddmmBackward0>)\n"
          ]
        }
      ],
      "source": [
        "# Make a prediction of X\n",
        "\n",
        "yhat = model(X)\n",
        "print(\"The result: \", yhat)"
      ]
    },
    {
      "cell_type": "markdown",
      "metadata": {
        "id": "Hf2O60FaZ_-o"
      },
      "source": [
        "The shape is shown in the following image:\n"
      ]
    },
    {
      "cell_type": "markdown",
      "metadata": {
        "id": "3ZoB2VcJZ_-p"
      },
      "source": [
        "<h3>Practice</h3>\n"
      ]
    },
    {
      "cell_type": "markdown",
      "metadata": {
        "id": "oz2Uu66mZ_-p"
      },
      "source": [
        "Build a model or object of type <code>linear_regression</code>. Using the <code>linear_regression</code> object will predict the following tensor:\n"
      ]
    },
    {
      "cell_type": "code",
      "execution_count": 19,
      "metadata": {
        "colab": {
          "base_uri": "https://localhost:8080/"
        },
        "id": "nAk0XAOVZ_-p",
        "outputId": "b283f830-7b92-4fd1-a39a-8b069188a1fd"
      },
      "outputs": [
        {
          "output_type": "stream",
          "name": "stdout",
          "text": [
            "The result:  tensor([[2.1062],\n",
            "        [2.1062]], grad_fn=<AddmmBackward0>)\n"
          ]
        }
      ],
      "source": [
        "# Practice: Build a model to predict the follow tensor.\n",
        "\n",
        "X = torch.tensor([[11.0, 12.0, 13, 14], [11, 12, 13, 14]])\n",
        "\n",
        "model = linear_regression(4, 1)\n",
        "yhat = model(X)\n",
        "\n",
        "print(\"The result: \", yhat)"
      ]
    }
  ],
  "metadata": {
    "kernelspec": {
      "display_name": "Python",
      "language": "python",
      "name": "conda-env-python-py"
    },
    "language_info": {
      "codemirror_mode": {
        "name": "ipython",
        "version": 3
      },
      "file_extension": ".py",
      "mimetype": "text/x-python",
      "name": "python",
      "nbconvert_exporter": "python",
      "pygments_lexer": "ipython3",
      "version": "3.7.12"
    },
    "colab": {
      "provenance": [],
      "collapsed_sections": [],
      "include_colab_link": true
    }
  },
  "nbformat": 4,
  "nbformat_minor": 0
}